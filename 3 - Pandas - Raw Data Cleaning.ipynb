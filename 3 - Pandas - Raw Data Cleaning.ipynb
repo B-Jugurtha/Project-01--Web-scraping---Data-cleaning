{
 "cells": [
  {
   "cell_type": "code",
   "execution_count": 37,
   "metadata": {},
   "outputs": [],
   "source": [
    "import pandas as pd \r\n",
    "from pathlib import Path\r\n",
    "import os\r\n"
   ]
  },
  {
   "cell_type": "code",
   "execution_count": 38,
   "metadata": {},
   "outputs": [
    {
     "data": {
      "text/plain": [
       "'g:\\\\CodeCodeCode\\\\Data Analyse\\\\Algerian IT Companies - Clean Version\\\\Ouedkniss\\\\raw_data\\\\Data - IT_Companies_Algiers_Raw.csv'"
      ]
     },
     "execution_count": 38,
     "metadata": {},
     "output_type": "execute_result"
    }
   ],
   "source": [
    "pwd = os.getcwd()\r\n",
    "filepath = pwd + \"\\\\raw_data\\\\Data - IT_Companies_Algiers_Raw.csv\"\r\n",
    "filepath\r\n"
   ]
  },
  {
   "cell_type": "code",
   "execution_count": 39,
   "metadata": {},
   "outputs": [],
   "source": [
    "# This reads the csv into Python\r\n",
    "df = pd.read_csv(\r\n",
    "    filepath, usecols=['company_id', 'company_name', 'city'])\r\n",
    "it_companies = df.copy()\r\n"
   ]
  },
  {
   "cell_type": "code",
   "execution_count": 40,
   "metadata": {},
   "outputs": [
    {
     "data": {
      "text/plain": [
       "(24000, 3)"
      ]
     },
     "execution_count": 40,
     "metadata": {},
     "output_type": "execute_result"
    }
   ],
   "source": [
    "it_companies.shape"
   ]
  },
  {
   "cell_type": "code",
   "execution_count": 41,
   "metadata": {},
   "outputs": [
    {
     "data": {
      "text/plain": [
       "23589"
      ]
     },
     "execution_count": 41,
     "metadata": {},
     "output_type": "execute_result"
    }
   ],
   "source": [
    "it_companies['company_id'].duplicated().sum()"
   ]
  },
  {
   "cell_type": "code",
   "execution_count": 42,
   "metadata": {},
   "outputs": [
    {
     "data": {
      "text/html": [
       "<div>\n",
       "<style scoped>\n",
       "    .dataframe tbody tr th:only-of-type {\n",
       "        vertical-align: middle;\n",
       "    }\n",
       "\n",
       "    .dataframe tbody tr th {\n",
       "        vertical-align: top;\n",
       "    }\n",
       "\n",
       "    .dataframe thead th {\n",
       "        text-align: right;\n",
       "    }\n",
       "</style>\n",
       "<table border=\"1\" class=\"dataframe\">\n",
       "  <thead>\n",
       "    <tr style=\"text-align: right;\">\n",
       "      <th></th>\n",
       "      <th>company_id</th>\n",
       "      <th>company_name</th>\n",
       "      <th>city</th>\n",
       "    </tr>\n",
       "  </thead>\n",
       "  <tbody>\n",
       "    <tr>\n",
       "      <th>0</th>\n",
       "      <td>13556</td>\n",
       "      <td>Arcontech</td>\n",
       "      <td>Dar el beida</td>\n",
       "    </tr>\n",
       "    <tr>\n",
       "      <th>2</th>\n",
       "      <td>13228</td>\n",
       "      <td>Eleceurop</td>\n",
       "      <td>Kouba</td>\n",
       "    </tr>\n",
       "    <tr>\n",
       "      <th>3</th>\n",
       "      <td>13806</td>\n",
       "      <td>NGT MEZIANI</td>\n",
       "      <td>Bordj el kiffan</td>\n",
       "    </tr>\n",
       "    <tr>\n",
       "      <th>4</th>\n",
       "      <td>9873</td>\n",
       "      <td>Novoreka ERP Algérie</td>\n",
       "      <td>Blida - 9</td>\n",
       "    </tr>\n",
       "    <tr>\n",
       "      <th>5</th>\n",
       "      <td>14338</td>\n",
       "      <td>VAST SOFT</td>\n",
       "      <td>Bouzareah</td>\n",
       "    </tr>\n",
       "    <tr>\n",
       "      <th>...</th>\n",
       "      <td>...</td>\n",
       "      <td>...</td>\n",
       "      <td>...</td>\n",
       "    </tr>\n",
       "    <tr>\n",
       "      <th>23411</th>\n",
       "      <td>13310</td>\n",
       "      <td>Sarl GEOXAL</td>\n",
       "      <td>Dely brahim</td>\n",
       "    </tr>\n",
       "    <tr>\n",
       "      <th>23417</th>\n",
       "      <td>16435</td>\n",
       "      <td>Horizon Biskra informatique</td>\n",
       "      <td>Biskra - 7</td>\n",
       "    </tr>\n",
       "    <tr>\n",
       "      <th>23445</th>\n",
       "      <td>15664</td>\n",
       "      <td>Solution4all</td>\n",
       "      <td>Hussein dey</td>\n",
       "    </tr>\n",
       "    <tr>\n",
       "      <th>23615</th>\n",
       "      <td>4001</td>\n",
       "      <td>Smog</td>\n",
       "      <td>Hydra</td>\n",
       "    </tr>\n",
       "    <tr>\n",
       "      <th>23703</th>\n",
       "      <td>8464</td>\n",
       "      <td>APOINT Flamme Bleue</td>\n",
       "      <td>Belouizdad</td>\n",
       "    </tr>\n",
       "  </tbody>\n",
       "</table>\n",
       "<p>411 rows × 3 columns</p>\n",
       "</div>"
      ],
      "text/plain": [
       "       company_id                 company_name             city\n",
       "0           13556                    Arcontech     Dar el beida\n",
       "2           13228                    Eleceurop            Kouba\n",
       "3           13806                  NGT MEZIANI  Bordj el kiffan\n",
       "4            9873         Novoreka ERP Algérie        Blida - 9\n",
       "5           14338                   VAST SOFT         Bouzareah\n",
       "...           ...                          ...              ...\n",
       "23411       13310                  Sarl GEOXAL      Dely brahim\n",
       "23417       16435  Horizon Biskra informatique       Biskra - 7\n",
       "23445       15664                 Solution4all      Hussein dey\n",
       "23615        4001                         Smog            Hydra\n",
       "23703        8464          APOINT Flamme Bleue       Belouizdad\n",
       "\n",
       "[411 rows x 3 columns]"
      ]
     },
     "execution_count": 42,
     "metadata": {},
     "output_type": "execute_result"
    }
   ],
   "source": [
    "it_companies.drop_duplicates(keep='first', subset=(['company_id']), inplace=True)\r\n",
    "it_companies\r\n"
   ]
  },
  {
   "cell_type": "code",
   "execution_count": 43,
   "metadata": {},
   "outputs": [
    {
     "data": {
      "text/html": [
       "<div>\n",
       "<style scoped>\n",
       "    .dataframe tbody tr th:only-of-type {\n",
       "        vertical-align: middle;\n",
       "    }\n",
       "\n",
       "    .dataframe tbody tr th {\n",
       "        vertical-align: top;\n",
       "    }\n",
       "\n",
       "    .dataframe thead th {\n",
       "        text-align: right;\n",
       "    }\n",
       "</style>\n",
       "<table border=\"1\" class=\"dataframe\">\n",
       "  <thead>\n",
       "    <tr style=\"text-align: right;\">\n",
       "      <th></th>\n",
       "      <th>company_id</th>\n",
       "      <th>company_name</th>\n",
       "      <th>city</th>\n",
       "    </tr>\n",
       "  </thead>\n",
       "  <tbody>\n",
       "    <tr>\n",
       "      <th>0</th>\n",
       "      <td>115</td>\n",
       "      <td>ELEGANT PC</td>\n",
       "      <td>Bab ezzouar</td>\n",
       "    </tr>\n",
       "    <tr>\n",
       "      <th>1</th>\n",
       "      <td>248</td>\n",
       "      <td>AlgerPC</td>\n",
       "      <td>Hydra</td>\n",
       "    </tr>\n",
       "    <tr>\n",
       "      <th>2</th>\n",
       "      <td>273</td>\n",
       "      <td>Tassili computer</td>\n",
       "      <td>Dar el beida</td>\n",
       "    </tr>\n",
       "    <tr>\n",
       "      <th>3</th>\n",
       "      <td>281</td>\n",
       "      <td>Dream Sat   Kouba</td>\n",
       "      <td>Kouba</td>\n",
       "    </tr>\n",
       "    <tr>\n",
       "      <th>4</th>\n",
       "      <td>290</td>\n",
       "      <td>DyalKom</td>\n",
       "      <td>Kouba</td>\n",
       "    </tr>\n",
       "    <tr>\n",
       "      <th>...</th>\n",
       "      <td>...</td>\n",
       "      <td>...</td>\n",
       "      <td>...</td>\n",
       "    </tr>\n",
       "    <tr>\n",
       "      <th>406</th>\n",
       "      <td>16458</td>\n",
       "      <td>Anelectronique</td>\n",
       "      <td>Bab ezzouar</td>\n",
       "    </tr>\n",
       "    <tr>\n",
       "      <th>407</th>\n",
       "      <td>16462</td>\n",
       "      <td>Class Bifrost Consult</td>\n",
       "      <td>El achour</td>\n",
       "    </tr>\n",
       "    <tr>\n",
       "      <th>408</th>\n",
       "      <td>16475</td>\n",
       "      <td>Eurl Ecopos</td>\n",
       "      <td>Draria</td>\n",
       "    </tr>\n",
       "    <tr>\n",
       "      <th>409</th>\n",
       "      <td>16549</td>\n",
       "      <td>Computer El Yassamine</td>\n",
       "      <td>Bordj el kiffan</td>\n",
       "    </tr>\n",
       "    <tr>\n",
       "      <th>410</th>\n",
       "      <td>16552</td>\n",
       "      <td>Source technologie informatique STI</td>\n",
       "      <td>Kouba</td>\n",
       "    </tr>\n",
       "  </tbody>\n",
       "</table>\n",
       "<p>411 rows × 3 columns</p>\n",
       "</div>"
      ],
      "text/plain": [
       "     company_id                         company_name             city\n",
       "0           115                          ELEGANT PC       Bab ezzouar\n",
       "1           248                              AlgerPC            Hydra\n",
       "2           273                     Tassili computer     Dar el beida\n",
       "3           281                   Dream Sat   Kouba             Kouba\n",
       "4           290                              DyalKom            Kouba\n",
       "..          ...                                  ...              ...\n",
       "406       16458                       Anelectronique      Bab ezzouar\n",
       "407       16462                Class Bifrost Consult        El achour\n",
       "408       16475                          Eurl Ecopos           Draria\n",
       "409       16549                Computer El Yassamine  Bordj el kiffan\n",
       "410       16552  Source technologie informatique STI            Kouba\n",
       "\n",
       "[411 rows x 3 columns]"
      ]
     },
     "execution_count": 43,
     "metadata": {},
     "output_type": "execute_result"
    }
   ],
   "source": [
    "it_companies.sort_values(by='company_id', inplace=True, ignore_index=True)\r\n",
    "it_companies\r\n",
    "\r\n",
    "\r\n"
   ]
  },
  {
   "cell_type": "code",
   "execution_count": 44,
   "metadata": {},
   "outputs": [],
   "source": [
    "Path(pwd + '\\\\dataframes').mkdir(parents=True, exist_ok=True)\r\n",
    "it_companies.to_csv(pwd + \"\\\\dataframes\\\\Data - IT_Companies_Algiers.csv\")\r\n"
   ]
  },
  {
   "cell_type": "code",
   "execution_count": null,
   "metadata": {},
   "outputs": [],
   "source": []
  }
 ],
 "metadata": {
  "interpreter": {
   "hash": "dc1355d3b09dc48f4fc858430b867eb4c26fec81301a4496e41039b1be276cdc"
  },
  "kernelspec": {
   "display_name": "Python 3.9.5 64-bit ('base': conda)",
   "name": "python3"
  },
  "language_info": {
   "codemirror_mode": {
    "name": "ipython",
    "version": 3
   },
   "file_extension": ".py",
   "mimetype": "text/x-python",
   "name": "python",
   "nbconvert_exporter": "python",
   "pygments_lexer": "ipython3",
   "version": "3.9.5"
  },
  "orig_nbformat": 4
 },
 "nbformat": 4,
 "nbformat_minor": 2
}